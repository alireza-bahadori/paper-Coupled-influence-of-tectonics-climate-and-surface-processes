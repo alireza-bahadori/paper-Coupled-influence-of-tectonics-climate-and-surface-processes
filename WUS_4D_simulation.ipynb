{
 "cells": [
  {
   "cell_type": "markdown",
   "metadata": {},
   "source": [
    "# 4-D simulation of Bahadori et al. (2022): Coupled influence of tectonics, climate, and surface processes on landscape evolution in southwestern North America"
   ]
  },
  {
   "cell_type": "code",
   "execution_count": 1,
   "metadata": {},
   "outputs": [
    {
     "name": "stdout",
     "output_type": "stream",
     "text": [
      "loaded rc file /usr/local/lib/python3.5/dist-packages/UWGeodynamics/uwgeo-data/uwgeodynamicsrc\n"
     ]
    }
   ],
   "source": [
    "import UWGeodynamics as GEO\n",
    "import numpy as np\n",
    "import math\n",
    "import underworld.function as fn\n",
    "from UWGeodynamics import non_dimensionalise as nd\n",
    "import os "
   ]
  },
  {
   "cell_type": "markdown",
   "metadata": {},
   "source": [
    "## Define variables for model setup"
   ]
  },
  {
   "cell_type": "code",
   "execution_count": 3,
   "metadata": {},
   "outputs": [],
   "source": [
    "# this scale coeff mulifplies the length and with of the domain by 10 and we will have 100km for each one degree.\n",
    "scale_coef = 10\n",
    "\n",
    "#  define spacing for making your mesh in x and y.\n",
    "n = 5\n",
    "#  define spacing for making your mesh in z direction in km.\n",
    "nz = 4\n",
    "\n",
    "# spacing for making 3D structures like topo, crust, etc.\n",
    "n_2 = 10\n",
    "\n",
    "# spacing for making badlands model. \n",
    "n_3 = 1\n",
    "\n",
    "dfs = int(n)\n",
    "dfs_2 = int(n_2)\n",
    "dfs_3 = int(n_3)\n",
    "nz = int(nz)\n",
    "\n",
    "# maximum_elevation_of_3D_model_from_sealevel km\n",
    "elsl = 6\n",
    "# upper crust basal depth km\n",
    "ucd = -10.0\n",
    "# middle crust basal depth km\n",
    "mcd = -25.0\n",
    "# mantle_asthenosphere_thickness_for_3D_model km\n",
    "mat = 70\n",
    "\n",
    "# air and sticky air density coefficient.\n",
    "factor = 1000\n",
    "\n",
    "# define laterally vaying temperature at the base.\n",
    "heat_add = (mat)*5.0"
   ]
  },
  {
   "cell_type": "markdown",
   "metadata": {},
   "source": [
    "## Mesh resolution"
   ]
  },
  {
   "cell_type": "code",
   "execution_count": 12,
   "metadata": {},
   "outputs": [],
   "source": [
    "resx = 42\n",
    "resy = 34\n",
    "resz = 49\n",
    "Res_mesh = resx, resy, resz\n",
    "model_top = int(elsl)"
   ]
  },
  {
   "cell_type": "code",
   "execution_count": 6,
   "metadata": {},
   "outputs": [
    {
     "name": "stdout",
     "output_type": "stream",
     "text": [
      "grid resolution is: resx: 21, resy: 17, resz: 14\n"
     ]
    }
   ],
   "source": [
    "print(\"grid resolution is: resx: {}, resy: {}, resz: {}\".format(resx,resy,resz))"
   ]
  },
  {
   "cell_type": "markdown",
   "metadata": {},
   "source": [
    "# Working with units\n",
    "\n",
    "Note that this is not an obligation and you can use values without units \n",
    "\n",
    "\n",
    "The geodynamics module enables usage of a broad range of units using a *UnitRegistry*. You can attach a unit to any value that you need to define. A value with a units attached becomes a *Quantity* python object. The geodynamics module take care of the conversion internally so you may use any units that you think are appropriate. You can also mix them.\n",
    "\n",
    "The module will also try to work out a scaling of the values to help the computation process. The user can chose to alter the way his or her values are scaled or can rely on the default options.\n",
    "\n",
    "To use the units system, you can link the unit registry as follow:"
   ]
  },
  {
   "cell_type": "code",
   "execution_count": 7,
   "metadata": {},
   "outputs": [],
   "source": [
    "u = GEO.UnitRegistry"
   ]
  },
  {
   "cell_type": "markdown",
   "metadata": {},
   "source": [
    "## Scaling"
   ]
  },
  {
   "cell_type": "code",
   "execution_count": 8,
   "metadata": {},
   "outputs": [],
   "source": [
    "model_length  = 1. * u.kilometer\n",
    "surfaceTemp   = 273.15 * u.degK # 0 * u.degC\n",
    "baseModelTemp = 1633.15 * u.degK # 1360 * u.degC\n",
    "bodyforce = (3300 * u.kilogram / u.metre**3 * 9.81 * u.meter / u.second**2) \n",
    "\n",
    "KL = model_length\n",
    "Kt = 1. * u.year\n",
    "KM = bodyforce * KL**2 * Kt**2\n",
    "KT = (baseModelTemp - surfaceTemp)\n",
    "\n",
    "GEO.scaling_coefficients[\"[length]\"] = KL\n",
    "GEO.scaling_coefficients[\"[time]\"] = Kt\n",
    "GEO.scaling_coefficients[\"[mass]\"]= KM\n",
    "GEO.scaling_coefficients[\"[temperature]\"] = KT"
   ]
  },
  {
   "cell_type": "markdown",
   "metadata": {},
   "source": [
    "# Model setup\n",
    "\n",
    "The starting model is 2100 x 1700 km long and ~200 km thick."
   ]
  },
  {
   "cell_type": "code",
   "execution_count": 9,
   "metadata": {},
   "outputs": [
    {
     "name": "stdout",
     "output_type": "stream",
     "text": [
      "[[    0.     0.  -190.]\n",
      " [  100.     0.  -190.]\n",
      " [  200.     0.  -190.]\n",
      " ..., \n",
      " [ 1900.  1700.     6.]\n",
      " [ 2000.  1700.     6.]\n",
      " [ 2100.  1700.     6.]]\n"
     ]
    }
   ],
   "source": [
    "Model = GEO.Model(elementRes=Res_mesh,\n",
    "                  minCoord=(0.0 * scale_coef * u.kilometer, 0.0 * scale_coef * u.kilometer, (-1*((resz*nz)-model_top)) * u.kilometer),  \n",
    "                  maxCoord=(resx*n * scale_coef * u.kilometer, resy*n * scale_coef * u.kilometer, model_top * u.kilometer), \n",
    "                  gravity=(0.0, 0.0, -9.81 * u.meter / u.second**2))\n",
    "\n",
    "print(Model.mesh.data)\n",
    "# print(len(Model.mesh.data))"
   ]
  },
  {
   "cell_type": "markdown",
   "metadata": {},
   "source": [
    "# Output directory for geodynamic model"
   ]
  },
  {
   "cell_type": "code",
   "execution_count": 10,
   "metadata": {},
   "outputs": [],
   "source": [
    "Model.outputDir=\"Output_WUS_3D\""
   ]
  },
  {
   "cell_type": "markdown",
   "metadata": {},
   "source": [
    "# Creating a synthetic 3D lithosphere structure\n",
    "\n",
    "Note that this simulation starts at step #5 which is 35.5Ma. The initial 3-D lithosphere structure has been already produced and provided in directory \"Output_WUS_3D\". To restart the simulations from 35.5Ma we just create a synthetic lithosphere structure here."
   ]
  },
  {
   "cell_type": "code",
   "execution_count": null,
   "metadata": {},
   "outputs": [],
   "source": [
    "air = Model.add_material(name=\"Air\", shape=GEO.shapes.Layer3D(top=Model.top, bottom=5.0 * u.kilometer))\n",
    "water = Model.add_material(name=\"Water\", shape=GEO.shapes.Layer3D(top=4.0 * u.kilometer, bottom=3.0 * u.kilometer))\n",
    "ml = Model.add_material(name=\"MantleLithosphere\", shape=GEO.shapes.Layer3D(top=-60.0 * u.kilometer, bottom=-120.0 * u.kilometer))\n",
    "lc = Model.add_material(name=\"LowerCrust\", shape=GEO.shapes.Layer3D(top=mcd * u.kilometer, bottom=-60.0 * u.kilometer))\n",
    "mc = Model.add_material(name=\"MiddleCrust\", shape=GEO.shapes.Layer3D(top=ucd * u.kilometer, bottom=mcd * u.kilometer))\n",
    "uc = Model.add_material(name=\"UpperCrust\", shape=GEO.shapes.Layer3D(top=-3.0 * u.kilometer, bottom=ucd * u.kilometer))\n",
    "oc = Model.add_material(name=\"OceanicCruct\", shape=GEO.shapes.Layer3D(top=2.0 * u.kilometer, bottom=1.0 * u.kilometer))\n",
    "topo = Model.add_material(name=\"Topography\", shape=GEO.shapes.Layer3D(top=-2.0 * u.kilometer, bottom=-3.0 * u.kilometer))\n",
    "sair = Model.add_material(name=\"StickyAir\", shape=GEO.shapes.Layer3D(top=air.bottom, bottom=4.0 * u.kilometer))\n",
    "ma = Model.add_material(name=\"MantleAsthenosphere\", shape=GEO.shapes.Layer3D(top=ml.bottom, bottom=Model.bottom))\n",
    "sediment = Model.add_material(name=\"Sediment\")\n",
    "wz = Model.add_material(name=\"Trench\", shape=GEO.shapes.Layer3D(top=water.bottom, bottom=2.0 * u.kilometer))\n",
    "lc_CP = Model.add_material(name=\"LowerCrustCP\", shape=GEO.shapes.Layer3D(top=oc.bottom, bottom=0.0 * u.kilometer))\n",
    "mc_CP = Model.add_material(name=\"MiddleCrustCP\", shape=GEO.shapes.Layer3D(top=lc_CP.bottom, bottom=-1.0 * u.kilometer))\n",
    "ml_o = Model.add_material(name=\"MantleLithosphereOceanic\", shape=GEO.shapes.Layer3D(top=mc_CP.bottom, bottom=-2.0 * u.kilometer))"
   ]
  },
  {
   "cell_type": "markdown",
   "metadata": {},
   "source": [
    "# Define model parameters"
   ]
  },
  {
   "cell_type": "code",
   "execution_count": 65,
   "metadata": {},
   "outputs": [],
   "source": [
    "air.density = 1*factor * u.kilogram / u.metre**3\n",
    "sair.density = 1*factor * u.kilogram / u.metre**3\n",
    "\n",
    "water.density = 1*factor * u.kilogram / u.metre**3\n",
    "\n",
    "# thermalExpansivity: r_tE\n",
    "r_tE = 3e-5 / u.kelvin\n",
    "# reference_temperature: r_tem\n",
    "r_tem = 298 * u.kelvin\n",
    "\n",
    "ml.density  = GEO.LinearDensity(3330. * u.kilogram / u.metre**3,thermalExpansivity = r_tE,\n",
    "                                reference_temperature = r_tem)   \n",
    "\n",
    "uc.density = GEO.LinearDensity(2700. * u.kilogram / u.metre**3,thermalExpansivity = r_tE,\n",
    "                                reference_temperature = r_tem) \n",
    "\n",
    "mc.density = GEO.LinearDensity(2900. * u.kilogram / u.metre**3,thermalExpansivity = r_tE,\n",
    "                                reference_temperature = r_tem) \n",
    "\n",
    "lc.density = GEO.LinearDensity(2900. * u.kilogram / u.metre**3,thermalExpansivity = r_tE,\n",
    "                                reference_temperature = r_tem) \n",
    "\n",
    "topo.density = GEO.LinearDensity(2500. * u.kilogram / u.metre**3,thermalExpansivity = r_tE,\n",
    "                                reference_temperature = r_tem) \n",
    "\n",
    "ml_o.density  = GEO.LinearDensity(3380. * u.kilogram / u.metre**3,thermalExpansivity = r_tE,\n",
    "                                reference_temperature = r_tem)\n",
    "\n",
    "oc.density = GEO.LinearDensity(2750. * u.kilogram / u.metre**3,thermalExpansivity = r_tE,\n",
    "                                reference_temperature = r_tem)\n",
    "\n",
    "wz.density = GEO.LinearDensity(2700. * u.kilogram / u.metre**3,thermalExpansivity = r_tE,\n",
    "                                reference_temperature = r_tem)\n",
    "\n",
    "lc_CP.density = GEO.LinearDensity(2900. * u.kilogram / u.metre**3,thermalExpansivity = r_tE,\n",
    "                                reference_temperature = r_tem)\n",
    "\n",
    "mc_CP.density = GEO.LinearDensity(2900. * u.kilogram / u.metre**3,thermalExpansivity = r_tE,\n",
    "                                reference_temperature = r_tem)\n",
    "\n",
    "sediment.density = 2300. * u.kilogram / u.metre**3\n",
    "\n",
    "upper_mantle_density = 3400.0 * u.kilogram / u.metre**3\n",
    "\n",
    "ma.density  = GEO.LinearDensity(upper_mantle_density,thermalExpansivity = r_tE,\n",
    "                                reference_temperature = r_tem)     \n",
    "\n",
    "air.radiogenicHeatProd = 0. * u.microwatt / u.meter**3\n",
    "sair.radiogenicHeatProd = 0. * u.microwatt / u.meter**3\n",
    "ma.radiogenicHeatProd  = 0.022 * u.microwatt / u.meter**3  \n",
    "ml.radiogenicHeatProd  = 0.022 * u.microwatt / u.meter**3  \n",
    "uc.radiogenicHeatProd = 0.9 * u.microwatt / u.meter**3  \n",
    "mc.radiogenicHeatProd = 0.9 * u.microwatt / u.meter**3  \n",
    "lc.radiogenicHeatProd = 0.9 * u.microwatt / u.meter**3  \n",
    "topo.radiogenicHeatProd = 0.5 * u.microwatt / u.meter**3  \n",
    "sediment.radiogenicHeatProd = 0.6 * u.microwatt / u.meter**3\n",
    "water.radiogenicHeatProd = 0.5 * u.microwatt / u.meter**3\n",
    "ml_o.radiogenicHeatProd  = 0.022 * u.microwatt / u.meter**3\n",
    "oc.radiogenicHeatProd = 0.5 * u.microwatt / u.meter**3\n",
    "wz.radiogenicHeatProd = 0.5 * u.microwatt / u.meter**3\n",
    "lc_CP.radiogenicHeatProd = 0.9 * u.microwatt / u.meter**3\n",
    "mc_CP.radiogenicHeatProd = 0.9 * u.microwatt / u.meter**3\n",
    "\n",
    "Model.diffusivity = 1.0e-6 * u.metre**2 / u.second \n",
    "Model.capacity    = 1000. * u.joule / (u.kelvin * u.kilogram)\n",
    "\n",
    "air.diffusivity = 1.0e-6 * u.metre**2 / u.second\n",
    "sair.diffusivity = 1.0e-6 * u.metre**2 / u.second\n",
    "thermal_diffusivity_upper_crust = 8.3e-7 * u.metre**2 / u.second \n",
    "thermal_diffusivity_lower_crust = 6.7e-7 * u.metre**2 / u.second \n",
    "thermal_diffusivity_mantle = 1.0e-6 * u.metre**2 / u.second \n",
    "\n",
    "ml.diffusivity  = thermal_diffusivity_mantle\n",
    "uc.diffusivity = thermal_diffusivity_upper_crust\n",
    "mc.diffusivity = thermal_diffusivity_lower_crust\n",
    "lc.diffusivity = thermal_diffusivity_lower_crust\n",
    "topo.diffusivity = thermal_diffusivity_upper_crust\n",
    "sediment.diffusivity = 1.0e-6 * u.metre**2 / u.second  \n",
    "ma.diffusivity  = thermal_diffusivity_mantle\n",
    "ml_o.diffusivity  = thermal_diffusivity_mantle\n",
    "water.diffusivity = thermal_diffusivity_mantle\n",
    "oc.diffusivity = thermal_diffusivity_mantle\n",
    "wz.diffusivity = thermal_diffusivity_mantle\n",
    "lc_CP.diffusivity = thermal_diffusivity_lower_crust\n",
    "mc_CP.diffusivity = thermal_diffusivity_lower_crust\n",
    "\n",
    "air.capacity = 100. * u.joule / (u.kelvin * u.kilogram)\n",
    "sair.capacity = 100. * u.joule / (u.kelvin * u.kilogram)\n",
    "ml.capacity  = 1000. * u.joule / (u.kelvin * u.kilogram)\n",
    "uc.capacity = 1000. * u.joule / (u.kelvin * u.kilogram) \n",
    "mc.capacity = 1000. * u.joule / (u.kelvin * u.kilogram) \n",
    "lc.capacity = 1000. * u.joule / (u.kelvin * u.kilogram)\n",
    "topo.capacity = 1000. * u.joule / (u.kelvin * u.kilogram)\n",
    "sediment.capacity = 1000. * u.joule / (u.kelvin * u.kilogram)\n",
    "ma.capacity  = 1000. * u.joule / (u.kelvin * u.kilogram)\n",
    "water.capacity = 1000. * u.joule / (u.kelvin * u.kilogram)\n",
    "ml_o.capacity  = 1000. * u.joule / (u.kelvin * u.kilogram)\n",
    "oc.capacity = 1000. * u.joule / (u.kelvin * u.kilogram)\n",
    "wz.capacity = 1000. * u.joule / (u.kelvin * u.kilogram)\n",
    "lc_CP.capacity = 1000. * u.joule / (u.kelvin * u.kilogram)\n",
    "mc_CP.capacity = 1000. * u.joule / (u.kelvin * u.kilogram)"
   ]
  },
  {
   "cell_type": "markdown",
   "metadata": {},
   "source": [
    "# Thermal Boundary Conditions\n",
    "\n",
    "Absolute temperatures at the top and bottom of the model are defined here."
   ]
  },
  {
   "cell_type": "code",
   "execution_count": 66,
   "metadata": {},
   "outputs": [
    {
     "data": {
      "text/plain": [
       "<underworld.conditions._conditions.NeumannCondition at 0x7fe9563d9278>"
      ]
     },
     "execution_count": 66,
     "metadata": {},
     "output_type": "execute_result"
    }
   ],
   "source": [
    "import pandas as pd\n",
    "import numpy as np\n",
    "\n",
    "with open(\"UWG_temperature/UWG_temp_35.5_Ma.txt\", \"r\") as input_crust:  \n",
    "    crust = pd.read_csv(input_crust, dtype=float, delimiter=\",\",skiprows=0)\n",
    "    df_crust = pd.DataFrame(crust)\n",
    "    df_crust = np.array(df_crust)\n",
    "\n",
    "    x = df_crust[:,0]\n",
    "    y = df_crust[:,1]\n",
    "    z = df_crust[:,2]\n",
    "    f = len(x)\n",
    "    q1 = x.reshape(f,1)\n",
    "    q2 = y.reshape(f,1)\n",
    "    q3 = z.reshape(f,1)\n",
    "    index1 = q1\n",
    "    temp = z + 274.15\n",
    "\n",
    "    temp_data0 = []\n",
    "    coor_temp = []\n",
    "\n",
    "    for data in range(len(index1)):\n",
    "        temp_data = temp[data]\n",
    "\n",
    "        x_coor = x[data]*scale_coef\n",
    "        y_coor = y[data]*scale_coef\n",
    "        coor_temp = (float(x_coor),float(y_coor),float(temp_data))\n",
    "        temp_data0.append(coor_temp)\n",
    "\n",
    "    max_y = int((resy*dfs*scale_coef)+(1*dfs*scale_coef))\n",
    "    \n",
    "    temp_data1 = []\n",
    "\n",
    "    for data in range(0,max_y,dfs*scale_coef):\n",
    "        for node in range(len(temp_data0)):\n",
    "            val1 = temp_data0[node]\n",
    "            if round(val1[1]) == data:\n",
    "                if round(val1[0]) % (dfs*scale_coef) == 0:\n",
    "                    temp_data1.append(val1)                                   \n",
    "\n",
    "    values1 = []\n",
    "    for data in range(len(temp_data1)):\n",
    "        value = temp_data1[data]\n",
    "        values = value[2]\n",
    "        values1.append(values)\n",
    "\n",
    "values10 = []\n",
    "for data in range(len(values1)):\n",
    "\n",
    "    value = values1[data] + heat_add \n",
    "    values10.append(value)          \n",
    "\n",
    "base = int((resx+1) * (resy+1))\n",
    "nodes_all = []\n",
    "for node in range(0,base,1):\n",
    " \n",
    "    nodes_all.append(node)\n",
    "\n",
    "temp_at_nodes = []\n",
    "for data in range(len(nodes_all)):\n",
    "    temp = ([nodes_all[data]], values10[data] * u.degK)\n",
    "    temp_at_nodes.append(temp)\n",
    "\n",
    "\n",
    "Model.set_temperatureBCs(top= 273.15 * u.degK,\n",
    "                     materials=[(air, 273.15 * u.degK),\n",
    "                                (sair, 273.15 * u.degK)],\n",
    "                     nodeSets=(temp_at_nodes))\n",
    "\n",
    "Model.set_heatFlowBCs(bottom=(-200 * u.microwatt / u.metre**2,ma))"
   ]
  },
  {
   "cell_type": "markdown",
   "metadata": {},
   "source": [
    "# Kinematic Boundary Conditions\n",
    "\n",
    "We use free slip on the top, left, right, back, and front of the model."
   ]
  },
  {
   "cell_type": "code",
   "execution_count": 27,
   "metadata": {},
   "outputs": [
    {
     "data": {
      "text/plain": [
       "<underworld.conditions._conditions.DirichletCondition at 0x7fe95747c198>"
      ]
     },
     "execution_count": 27,
     "metadata": {},
     "output_type": "execute_result"
    }
   ],
   "source": [
    "Model.set_velocityBCs(top=[None, None, 0. * u.centimeter / u.year],\n",
    "                        left=[0.0 * u.centimeter / u.year, None, None],\n",
    "                        right=[0.0 * u.centimeter / u.year, None, None],\n",
    "                        back=[None, 0.0 * u.centimeter / u.year, None],\n",
    "                        front=[None, 0.0 * u.centimeter / u.year, None])"
   ]
  },
  {
   "cell_type": "markdown",
   "metadata": {},
   "source": [
    "# Stress Boundary Conditions\n",
    "\n",
    "We use a traction field from the mantle convection model at the base of the model."
   ]
  },
  {
   "cell_type": "code",
   "execution_count": 28,
   "metadata": {},
   "outputs": [
    {
     "data": {
      "text/plain": [
       "<underworld.conditions._conditions.NeumannCondition at 0x7fe9565010b8>"
      ]
     },
     "execution_count": 28,
     "metadata": {},
     "output_type": "execute_result"
    }
   ],
   "source": [
    "import pandas as pd\n",
    "import numpy as np\n",
    "\n",
    "with open(\"UWG_traction/traction_vector_uwg_35.5_Ma.txt\", \"r\") as input_crust:\n",
    "    crust = pd.read_csv(input_crust, dtype=float, delimiter=\",\",skiprows=0)\n",
    "    df_crust = pd.DataFrame(crust)\n",
    "    df_crust = np.array(df_crust)\n",
    "\n",
    "    x = df_crust[:,0]\n",
    "    y = df_crust[:,1]\n",
    "    k1 = df_crust[:,2]\n",
    "    k2 = df_crust[:,3]\n",
    "    k3 = df_crust[:,4]\n",
    "    f = len(x)\n",
    "    q1 = x.reshape(f,1)\n",
    "    q2 = y.reshape(f,1)\n",
    "    q3 = k1.reshape(f,1)\n",
    "    q4 = k2.reshape(f,1)\n",
    "    q5 = k3.reshape(f,1)\n",
    "    index1 = q1\n",
    "\n",
    "    tracton_data0 = []\n",
    "    coor_traction = []\n",
    "\n",
    "    for data in range(len(index1)):\n",
    "        x_coor = x[data]*scale_coef\n",
    "        y_coor = y[data]*scale_coef\n",
    "        coor_traction = (float(x_coor),float(y_coor),float(k1[data]),float(k2[data]),float(k3[data]*-1))\n",
    "        tracton_data0.append(coor_traction)\n",
    "\n",
    "    max_y = int((resy*dfs*scale_coef)+(1*dfs*scale_coef))\n",
    "\n",
    "    tracton_data1 = []\n",
    "\n",
    "    for data in range(0,max_y,dfs*scale_coef):\n",
    "        for node in range(len(tracton_data0)):\n",
    "            val1 = tracton_data0[node]\n",
    "            if round(val1[1]) == data:\n",
    "                if round(val1[0]) % (dfs*scale_coef) == 0:\n",
    "                    tracton_data1.append(val1)\n",
    "\n",
    "    values1 = []\n",
    "    for data in range(len(tracton_data1)):\n",
    "        value = tracton_data1[data]\n",
    "        values = value[2],value[3],value[4]\n",
    "        values1.append(values)\n",
    "            \n",
    "base = int((resx+1) * (resy+1))\n",
    "nodes_all = []\n",
    "for node in range(0,base,1):\n",
    "    nodes_all.append(node)\n",
    "\n",
    "traction_at_nodes = []\n",
    "for data in range(len(nodes_all)):\n",
    "    tract = ([nodes_all[data]], [values1[data][0] * u.pascal, values1[data][1] * u.pascal, values1[data][2] * u.pascal])\n",
    "    traction_at_nodes.append(tract)\n",
    "\n",
    "Model.set_stressBCs(top=[None, None, None], bottom=[0. * u.pascal, 0. * u.pascal, 0. * u.pascal], nodeSets=(traction_at_nodes))"
   ]
  },
  {
   "cell_type": "markdown",
   "metadata": {},
   "source": [
    "# Define Viscosities\n",
    "\n",
    "The crust and the mantle have a visco-plastic rheology with a\n",
    "temperature and stress dependent viscosity for stresses below the yield stress,\n",
    "and a depth dependent plastic branch above it.\n",
    "We use power law relationships between strain rate and stress\n",
    "to describe dislocation creep. \n",
    "\n",
    "The viscosity varies with the temperature and stress. Please see Mthods section of the manuscript for more information."
   ]
  },
  {
   "cell_type": "code",
   "execution_count": 40,
   "metadata": {},
   "outputs": [],
   "source": [
    "rh=GEO.ViscousCreepRegistry()"
   ]
  },
  {
   "cell_type": "code",
   "execution_count": 41,
   "metadata": {},
   "outputs": [],
   "source": [
    "Model.minViscosity = 1e18 * u.pascal * u.second\n",
    "Model.maxViscosity = 1e24 * u.pascal * u.second\n",
    "\n",
    "air.viscosity      = 1.0e19 * u.pascal * u.second\n",
    "sair.viscosity     = 2.5e19 * u.pascal * u.second\n",
    "\n",
    "uc.viscosity = 0.0015 * rh.Wet_Quartz_Dislocation_Gleason_and_Tullis_1995\n",
    "\n",
    "topo.viscosity = 0.0015 * rh.Wet_Quartz_Dislocation_Gleason_and_Tullis_1995\n",
    "\n",
    "lc.viscosity  = 10.0 * GEO.ViscousCreep(name='Wet Diorite (Carter and Tsenn, 1987)',\n",
    "                                 preExponentialFactor=3.2e-2/u.megapascal ** 2.4 /u.second,\n",
    "                                 stressExponent=2.4,\n",
    "                                 activationVolume=0*u.meter ** 3 / u.mole,activationEnergy=212 * u.kilojoules/u.mole,\n",
    "                                 f=1.0)  # Wet Diorite (Carter and Tsenn, 1987) eta _{0}=3.98e16\n",
    "\n",
    "mc.viscosity  = 0.5 * GEO.ViscousCreep(name='Wet Diorite (Carter and Tsenn, 1987)',\n",
    "                                 preExponentialFactor=3.2e-2/u.megapascal ** 2.4 /u.second,\n",
    "                                 stressExponent=2.4,\n",
    "                                 activationVolume=0*u.meter ** 3 / u.mole,activationEnergy=212 * u.kilojoules/u.mole,\n",
    "                                 f=1.0)  # Wet Diorite (Carter and Tsenn, 1987) eta _{0}=3.98e16\n",
    "\n",
    "ml.viscosity = 0.4 * GEO.ViscousCreep(name='Wet Olivine (Burov, 2011)',\n",
    "                                 preExponentialFactor=4.8/u.megapascal ** 3.0 /u.second,\n",
    "                                 stressExponent=3.0,\n",
    "                                 activationVolume=0.,activationEnergy=502 * u.kilojoules/u.mole,\n",
    "                                 f=1.0)  # Dry Olivine (Burov, 2011) eta _{0}=1.97e17\n",
    "\n",
    "ma.viscosity = 3.0 * rh.Dry_Olivine_Dislocation_Karato_and_Wu_1993\n",
    "     \n",
    "sediment.viscosity = rh.Wet_Quartz_Dislocation_Gleason_and_Tullis_1995\n",
    "\n",
    "water.viscosity      = 2.5e19 * u.pascal * u.second\n",
    "oc.viscosity = 0.0015 * rh.Wet_Quartz_Dislocation_Gleason_and_Tullis_1995\n",
    "wz.viscosity = 1.0 * GEO.ViscousCreep(name='Dry Maryland Diabase(strong) (Burov, 2011)',\n",
    "                                 preExponentialFactor=8/u.megapascal ** 4.7 /u.second,\n",
    "                                 stressExponent=4.7,\n",
    "                                 activationVolume=0*u.meter ** 3 / u.mole,activationEnergy=485 * u.kilojoules/u.mole,\n",
    "                                 f=1.0)  # Dry Maryland Diabase(strong) (Burov, 2011) eta _{0}=3.98e16\n",
    "\n",
    "ml_o.viscosity = 0.001 * GEO.ViscousCreep(name='Dry Maryland Diabase(strong) (Burov, 2011)',\n",
    "                                 preExponentialFactor=8/u.megapascal ** 4.7 /u.second,\n",
    "                                 stressExponent=4.7,\n",
    "                                 activationVolume=0*u.meter ** 3 / u.mole,activationEnergy=485 * u.kilojoules/u.mole,\n",
    "                                 f=1.0)  # Dry Maryland Diabase(strong) (Burov, 2011) eta _{0}=3.98e16\n",
    "\n",
    "lc_CP.viscosity  = 1.0 * GEO.ViscousCreep(name='Dry Maryland Diabase(strong) (Burov, 2011)',\n",
    "                                 preExponentialFactor=8/u.megapascal ** 4.7 /u.second,\n",
    "                                 stressExponent=4.7,\n",
    "                                 activationVolume=0*u.meter ** 3 / u.mole,activationEnergy=485 * u.kilojoules/u.mole,\n",
    "                                 f=1.0)  # Dry Maryland Diabase(strong) (Burov, 2011) eta _{0}=3.98e16 #ref: Geophysical and tectonic framework of the eastern\n",
    "                                         # Basin and Range-Colorado Plateau-Rocky Mountain transition\n",
    "\n",
    "mc_CP.viscosity = 1.5 * rh.Wet_Quartz_Dislocation_Gleason_and_Tullis_1995"
   ]
  },
  {
   "cell_type": "markdown",
   "metadata": {},
   "source": [
    "# Define Plasticity\n",
    "\n",
    "Plastic behavior is assigned using the same approach as for viscosities."
   ]
  },
  {
   "cell_type": "code",
   "execution_count": null,
   "metadata": {},
   "outputs": [],
   "source": [
    "pl = GEO.PlasticityRegistry()"
   ]
  },
  {
   "cell_type": "code",
   "execution_count": 42,
   "metadata": {},
   "outputs": [],
   "source": [
    "topo.plasticity = GEO.DruckerPrager(name=\"Topo\",\n",
    "                                                cohesion=1. * u.megapascal,\n",
    "                                                cohesionAfterSoftening=0.2 * u.megapascal,\n",
    "                                                frictionCoefficient=0.1,\n",
    "                                                frictionAfterSoftening=0.01,\n",
    "                                                epsilon1=0.0, epsilon2=0.2)\n",
    "\n",
    "uc.plasticity = GEO.DruckerPrager(name=\"Upper Crust\",\n",
    "                                                cohesion=1. * u.megapascal,\n",
    "                                                cohesionAfterSoftening=0.2 * u.megapascal,\n",
    "                                                frictionCoefficient=0.1,\n",
    "                                                frictionAfterSoftening=0.01,\n",
    "                                                epsilon1=0.0, epsilon2=0.2)\n",
    "\n",
    "mc.plasticity = GEO.DruckerPrager(name=\"Middle Crust\",\n",
    "                                                cohesion=10. * u.megapascal,\n",
    "                                                cohesionAfterSoftening=2. * u.megapascal,\n",
    "                                                frictionCoefficient=0.1,\n",
    "                                                frictionAfterSoftening=0.01,\n",
    "                                                epsilon1=0.0, epsilon2=0.5)\n",
    "\n",
    "lc.plasticity = GEO.DruckerPrager(name=\"Lower Crust\",\n",
    "                                                cohesion=10. * u.megapascal,\n",
    "                                                cohesionAfterSoftening=2. * u.megapascal,\n",
    "                                                frictionCoefficient=0.1,\n",
    "                                                frictionAfterSoftening=0.01,\n",
    "                                                epsilon1=0.0, epsilon2=0.5)\n",
    "\n",
    "ml.plasticity = GEO.DruckerPrager(name=\"Upper Mantle\",\n",
    "                                           cohesion=10. * u.megapascal,\n",
    "                                           cohesionAfterSoftening=2. * u.megapascal,\n",
    "                                           frictionCoefficient=0.1,\n",
    "                                           frictionAfterSoftening=0.01,\n",
    "                                           epsilon1=0.0, epsilon2=0.5)\n",
    "\n",
    "ma.plasticity = GEO.DruckerPrager(name=\"Mantle Asthenosphere\",\n",
    "                                                cohesion=10. * u.megapascal,\n",
    "                                                cohesionAfterSoftening=2. * u.megapascal,\n",
    "                                                frictionCoefficient=0.1,\n",
    "                                                frictionAfterSoftening=0.01,\n",
    "                                                epsilon1=0.0, epsilon2=0.5)\n",
    "\n",
    "sediment.plasticity = pl.Huismans_et_al_2011_Crust\n",
    "sediment.plasticity.epsilon1 = 0.01\n",
    "sediment.plasticity.epsilon2 = 1.0\n",
    "\n",
    "ml_o.plasticity = GEO.DruckerPrager(name=\"Upper Mantle\",\n",
    "                                           cohesion=10. * u.megapascal,\n",
    "                                           cohesionAfterSoftening=2. * u.megapascal,\n",
    "                                           frictionCoefficient=0.1,\n",
    "                                           frictionAfterSoftening=0.01,\n",
    "                                           epsilon1=0.0, epsilon2=0.5)\n",
    "\n",
    "oc.plasticity = GEO.DruckerPrager(name=\"Oceanic Crust\",\n",
    "                                                cohesion=5. * u.megapascal,\n",
    "                                                cohesionAfterSoftening=1. * u.megapascal,\n",
    "                                                frictionCoefficient=0.05,\n",
    "                                                frictionAfterSoftening=0.01,\n",
    "                                                epsilon1=0.0, epsilon2=0.5)\n",
    "\n",
    "water.plasticity = GEO.DruckerPrager(name=\"Oceanic Crust\",\n",
    "                                                cohesion=5. * u.megapascal,\n",
    "                                                cohesionAfterSoftening=1. * u.megapascal,\n",
    "                                                frictionCoefficient=0.05,\n",
    "                                                frictionAfterSoftening=0.01,\n",
    "                                                epsilon1=0.0, epsilon2=0.5)\n",
    "\n",
    "wz.plasticity = GEO.DruckerPrager(name=\"Weak Zone\",\n",
    "                                                cohesion=5. * u.megapascal,\n",
    "                                                cohesionAfterSoftening=1. * u.megapascal,\n",
    "                                                frictionCoefficient=0.05,\n",
    "                                                frictionAfterSoftening=0.01,\n",
    "                                                epsilon1=0.0, epsilon2=0.5)\n",
    "\n",
    "lc_CP.plasticity = GEO.DruckerPrager(name=\"Lower Crust CP\",\n",
    "                                                cohesion=15. * u.megapascal,\n",
    "                                                cohesionAfterSoftening=3. * u.megapascal,\n",
    "                                                frictionCoefficient=0.44,\n",
    "                                                frictionAfterSoftening=0.088,\n",
    "                                                epsilon1=0.0, epsilon2=0.5)\n",
    "\n",
    "mc_CP.plasticity = GEO.DruckerPrager(name=\"Middle Crust CP\",\n",
    "                                           cohesion=15. * u.megapascal,\n",
    "                                           cohesionAfterSoftening=3. * u.megapascal,\n",
    "                                           frictionCoefficient=0.44,\n",
    "                                           frictionAfterSoftening=0.088,\n",
    "                                           epsilon1=0.0, epsilon2=0.5)"
   ]
  },
  {
   "cell_type": "markdown",
   "metadata": {},
   "source": [
    "## Melt"
   ]
  },
  {
   "cell_type": "markdown",
   "metadata": {},
   "source": [
    "In our experiments, the viscosity decreases linearly by 2 orders of magnitude when the melt fraction increases from 15 to 30%. When the melt fraction is 15%, the viscosity of the melted crust is that of the non-melted surrounding; when the melt fraction is 30%, its viscosity is a thousand times lower than in surrounding material. Please see Methods section of the manuscript for more information."
   ]
  },
  {
   "cell_type": "code",
   "execution_count": 44,
   "metadata": {},
   "outputs": [],
   "source": [
    "solidii = GEO.SolidusRegistry()\n",
    "crust_solidus = solidii.Crustal_Solidus\n",
    "\n",
    "liquidii = GEO.LiquidusRegistry()\n",
    "crust_liquidus = liquidii.Crustal_Liquidus\n",
    "\n",
    "\n",
    "lc.add_melt_modifier(crust_solidus, crust_liquidus, \n",
    "                         latentHeatFusion=250.0 * u.kilojoules / u.kilogram / u.kelvin,\n",
    "                         meltFraction=0.,\n",
    "                         meltFractionLimit=0.3,\n",
    "                         meltExpansion=0.13, \n",
    "                         viscosityChangeX1 = 0.15,\n",
    "                         viscosityChangeX2 = 0.30,\n",
    "                         viscosityChange = 1e-2\n",
    "                        )  \n",
    "\n",
    "mc.add_melt_modifier(crust_solidus, crust_liquidus, \n",
    "                         latentHeatFusion=250.0 * u.kilojoules / u.kilogram / u.kelvin,\n",
    "                         meltFraction=0.,\n",
    "                         meltFractionLimit=0.3,\n",
    "                         meltExpansion=0.13, \n",
    "                         viscosityChangeX1 = 0.15,\n",
    "                         viscosityChangeX2 = 0.30,\n",
    "                         viscosityChange = 1e-2\n",
    "                        )  \n",
    "\n",
    "\n",
    "uc.add_melt_modifier(crust_solidus, crust_liquidus, \n",
    "                         latentHeatFusion=250.0 * u.kilojoules / u.kilogram / u.kelvin,\n",
    "                         meltFraction=0.,\n",
    "                         meltFractionLimit=0.3,\n",
    "                         meltExpansion=0.13, \n",
    "                         viscosityChangeX1 = 0.15,\n",
    "                         viscosityChangeX2 = 0.30,\n",
    "                         viscosityChange = 1e-2\n",
    "                        )  \n",
    "\n",
    "topo.add_melt_modifier(crust_solidus, crust_liquidus, \n",
    "                         latentHeatFusion=250.0 * u.kilojoules / u.kilogram / u.kelvin,\n",
    "                         meltFraction=0.,\n",
    "                         meltFractionLimit=0.3,\n",
    "                         meltExpansion=0.13, \n",
    "                         viscosityChangeX1 = 0.15,\n",
    "                         viscosityChangeX2 = 0.30,\n",
    "                         viscosityChange = 1e-2\n",
    "                        ) \n",
    "\n",
    "wz.add_melt_modifier(crust_solidus, crust_liquidus,\n",
    "                         latentHeatFusion=250.0 * u.kilojoules / u.kilogram / u.kelvin,\n",
    "                         meltFraction=0.,\n",
    "                         meltFractionLimit=0.3,\n",
    "                         meltExpansion=0.13,\n",
    "                         viscosityChangeX1 = 0.15,\n",
    "                         viscosityChangeX2 = 0.30,\n",
    "                         viscosityChange = 1e-2\n",
    "                        )"
   ]
  },
  {
   "cell_type": "markdown",
   "metadata": {},
   "source": [
    "# Compute initial condition"
   ]
  },
  {
   "cell_type": "code",
   "execution_count": 45,
   "metadata": {},
   "outputs": [],
   "source": [
    "Model.init_model(defaultStrainRate=1e-14 * 1/u.second)"
   ]
  },
  {
   "cell_type": "code",
   "execution_count": 46,
   "metadata": {},
   "outputs": [],
   "source": [
    "Model.update_melt_fraction()"
   ]
  },
  {
   "cell_type": "markdown",
   "metadata": {},
   "source": [
    "## Surface Processes Model"
   ]
  },
  {
   "cell_type": "code",
   "execution_count": 60,
   "metadata": {},
   "outputs": [],
   "source": [
    "Model.surfaceProcesses = GEO.surfaceProcesses.Badlands(airIndex=[air.index], sedimentIndex=sediment.index,\n",
    "                                          XML=\"maped_rain/wus_test1.xml\", resolution= dfs_3 * scale_coef * u.kilometer, surfElevation=0.,\n",
    "                                          checkpoint_interval=100000 * u.years, restartFolder=\"outbdls\")"
   ]
  },
  {
   "cell_type": "markdown",
   "metadata": {},
   "source": [
    "## Solver options"
   ]
  },
  {
   "cell_type": "code",
   "execution_count": null,
   "metadata": {},
   "outputs": [],
   "source": [
    "Model.solver.set_inner_method(\"lu\")\n",
    "\n",
    "Model.solver.set_penalty(1e1)\n",
    "\n",
    "GEO.rcParams[\"initial.nonlinear.max.iterations\"] = 30\n",
    "\n",
    "GEO.rcParams[\"nonlinear.max.iterations\"] = 30\n",
    "\n",
    "GEO.rcParams[\"initial.nonlinear.tolerance\"]= 2e-2 \n",
    "\n",
    "GEO.rcParams[\"nonlinear.tolerance\"]= 2e-2\n",
    "\n",
    "GEO.rcParams[\"temperature.SIunits\"]= u.degC\n",
    "\n",
    "GEO.rcParams[\"velocityField.SIunits\"]= u.millimeter / u.year\n",
    "\n",
    "GEO.rcParams[\"default.outputs\"]= [\"temperature\",\"pressureField\",\"strainRateField\",\"velocityField\",\"projStressField\",\"projTimeField\",\"projMaterialField\",\"projViscosityField\",\"projMeltField\",\"projPlasticStrain\",\"projDensityField\",\"projStressTensor\"]"
   ]
  },
  {
   "cell_type": "markdown",
   "metadata": {},
   "source": [
    "## Run Geodynamics Model"
   ]
  },
  {
   "cell_type": "code",
   "execution_count": null,
   "metadata": {},
   "outputs": [],
   "source": [
    "Model.run_for(500000.0 * u.years, restartStep=-1, checkpoint_interval=100000.0*u.years,dt=100000.0*u.years, restartDir=\"Output_WUS_3D\")"
   ]
  }
 ],
 "metadata": {
  "kernelspec": {
   "display_name": "Python 3",
   "language": "python",
   "name": "python3"
  },
  "language_info": {
   "codemirror_mode": {
    "name": "ipython",
    "version": 3
   },
   "file_extension": ".py",
   "mimetype": "text/x-python",
   "name": "python",
   "nbconvert_exporter": "python",
   "pygments_lexer": "ipython3",
   "version": "3.5.3"
  }
 },
 "nbformat": 4,
 "nbformat_minor": 2
}
